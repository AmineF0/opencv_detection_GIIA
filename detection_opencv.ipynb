{
 "cells": [
  {
   "cell_type": "markdown",
   "metadata": {},
   "source": [
    "<h1>object detection using opencv</h1>\n",
    "                      <h3>this project is created by YOUNESS AABIBI and AMINE FIRDAWSI <h3>"
   ]
  },
  {
   "cell_type": "markdown",
   "metadata": {},
   "source": [
    "<h4>task 1 : object detection </h4>"
   ]
  },
  {
   "cell_type": "code",
   "execution_count": 68,
   "metadata": {},
   "outputs": [],
   "source": [
    "import numpy as np\n",
    "import cv2\n",
    "import imutils\n",
    "import time\n"
   ]
  },
  {
   "cell_type": "code",
   "execution_count": 81,
   "metadata": {},
   "outputs": [],
   "source": [
    "# read img\n",
    "img = cv2.imread('phone.webp')\n",
    "# showing img\n",
    "cv2.imshow('image', img)\n",
    "# wait for key to close\n",
    "cv2.waitKey(0)\n",
    "# destroy all windows\n",
    "cv2.destroyAllWindows()"
   ]
  },
  {
   "cell_type": "code",
   "execution_count": 82,
   "metadata": {},
   "outputs": [],
   "source": [
    "# convert the imh to rgb format because opencv reads img in bgr format\n",
    "img_rgb = cv2.cvtColor(img, cv2.COLOR_BGR2RGB)\n",
    "# convert img to grey scale\n",
    "gray = cv2.cvtColor(img, cv2.COLOR_BGR2GRAY)\n",
    "gray = cv2.cvtColor(img_rgb, cv2.COLOR_RGB2GRAY)\n",
    "\n",
    "cv2.imshow('image', gray)\n",
    "cv2.imshow('image2', img_rgb) \n",
    "cv2.waitKey(0)\n",
    "cv2.destroyAllWindows()\n",
    "a=np.array(gray)\n",
    "\n"
   ]
  },
  {
   "cell_type": "code",
   "execution_count": 83,
   "metadata": {},
   "outputs": [],
   "source": [
    "# def find_marker(image):\n",
    "# \t# convert the image to grayscale, blur it, and detect edges\n",
    "# \tgray = cv2.cvtColor(image, cv2.COLOR_BGR2GRAY)\n",
    "# \tgray = cv2.GaussianBlur(gray, (5, 5), 0)\n",
    "# \tedged = cv2.Canny(gray, 35, 125)\n",
    "# \t# find the contours in the edged image and keep the largest one;\n",
    "# \t# we'll assume that this is our piece of paper in the image\n",
    "# \tcnts = cv2.findContours(edged.copy(), cv2.RETR_LIST, cv2.CHAIN_APPROX_SIMPLE)\n",
    "# \tcnts = imutils.grab_contours(cnts)\n",
    "# \tc = max(cnts, key = cv2.contourArea)\n",
    "# \t# compute the bounding box of the of the paper region and return it\n",
    "# \treturn cv2.minAreaRect(c)"
   ]
  },
  {
   "cell_type": "code",
   "execution_count": 84,
   "metadata": {},
   "outputs": [],
   "source": [
    "# img_cascade = cv2.CascadeClassifier(cv2.data.haarcascades+'haarcascade_frontalface_default.xml')\n",
    "# found = img_cascade.detectMultiScale(gray, minSize =(20, 20))\n",
    "\n",
    "# if len(found):\n",
    "#     for (x,y,widht,height) in found:\n",
    "#         cv2.rectangle(img, (x,y), (x+widht, y+height), (0,255,0), 2)\n",
    "# cv2.imshow('image', img)\n",
    "# cv2.waitKey(0)\n",
    "# cv2.destroyAllWindows()"
   ]
  },
  {
   "cell_type": "code",
   "execution_count": 85,
   "metadata": {},
   "outputs": [],
   "source": [
    "ret, thresh = cv2.threshold(gray, 127, 255, cv2.THRESH_BINARY)\n",
    "canny = cv2.Canny(img, 100, 200)\n",
    "cv2.imshow('image', thresh)\n",
    "cv2.imshow('image2', canny)\n",
    "cv2.waitKey(0)\n",
    "cv2.destroyAllWindows()"
   ]
  },
  {
   "cell_type": "code",
   "execution_count": 86,
   "metadata": {},
   "outputs": [
    {
     "name": "stdout",
     "output_type": "stream",
     "text": [
      "[[0 0 0 ... 0 0 0]\n",
      " [0 0 0 ... 0 0 0]\n",
      " [0 0 0 ... 0 0 0]\n",
      " ...\n",
      " [0 0 0 ... 0 0 0]\n",
      " [0 0 0 ... 0 0 0]\n",
      " [0 0 0 ... 0 0 0]]\n",
      "(500, 500)\n",
      "456 478 43 57\n"
     ]
    }
   ],
   "source": [
    "print(canny)\n",
    "max_x,min_x,max_y,min_y = [0,10000000,0,10000000]\n",
    "height,width = canny.shape\n",
    "print(canny.shape)\n",
    "for i in range(0, height):             \n",
    "    for j in range(0, (width)):\n",
    "        if canny[i,j]==255:\n",
    "            if j>=max_x:\n",
    "                max_x=j\n",
    "            if j<=min_x:\n",
    "                min_x=j\n",
    "            if i>=max_y:\n",
    "                max_y=i\n",
    "            if i<=min_y:\n",
    "                min_y=i\n",
    "print(max_x,max_y,min_x,min_y)\n",
    "x=min_x\n",
    "y=min_y\n",
    "widht = max_x - min_x\n",
    "height = max_y - min_y\n",
    "cv2.rectangle(img,(x,y), (x+widht, y+height),(0,255,0),2)      \n",
    "cv2.imshow('img',img)\n",
    "cv2.waitKey(0)\n",
    "cv2.destroyAllWindows()     "
   ]
  },
  {
   "cell_type": "code",
   "execution_count": 30,
   "metadata": {},
   "outputs": [],
   "source": [
    "# img_copy2 = img.copy()\n",
    "# marker = find_marker(img_copy2)\n",
    "# box = cv2.cv.BoxPoints(marker) if imutils.is_cv2() else cv2.boxPoints(marker)\n",
    "# box = np.int0(box)\n",
    "# cv2.drawContours(img_copy2, [box], -1, (0, 255, 0), 2)\n",
    "# cv2.imshow('image', img_copy2)\n",
    "# cv2.waitKey(0)\n",
    "# cv2.destroyAllWindows()"
   ]
  },
  {
   "cell_type": "code",
   "execution_count": 87,
   "metadata": {},
   "outputs": [],
   "source": [
    "contours, hierarchy = cv2.findContours(image=canny, mode=cv2.RETR_CCOMP, method=cv2.CHAIN_APPROX_SIMPLE)\n",
    "img_copy = img.copy()\n",
    "cv2.drawContours(img_copy, contours, -1, (255,0,0), 1,cv2.LINE_AA)\n",
    "cv2.imshow('image', img_copy)\n",
    "cv2.waitKey(0)\n",
    "cv2.destroyAllWindows()"
   ]
  },
  {
   "cell_type": "code",
   "execution_count": null,
   "metadata": {},
   "outputs": [],
   "source": []
  },
  {
   "cell_type": "markdown",
   "metadata": {},
   "source": [
    "<h4>Task2 : face detection </h4>"
   ]
  },
  {
   "cell_type": "code",
   "execution_count": 88,
   "metadata": {},
   "outputs": [],
   "source": [
    "import cv2\n",
    "import numpy as np"
   ]
  },
  {
   "cell_type": "code",
   "execution_count": 89,
   "metadata": {},
   "outputs": [],
   "source": [
    "# read input from web cam\n",
    "cap = cv2.VideoCapture(0)\n",
    "#get the cascade classifer object using the haarcascade file\n",
    "img_cascade = cv2.CascadeClassifier(cv2.data.haarcascades+'haarcascade_frontalface_alt.xml')\n",
    "while True:\n",
    "    # read frame\n",
    "    ret, frame = cap.read()\n",
    "    # flip the frame so that it is not the mirror view\n",
    "    frame = cv2.flip(frame, 1)\n",
    "    gray = cv2.cvtColor(frame, cv2.COLOR_BGR2GRAY)\n",
    "    # detecting the face in the frame\n",
    "    found = img_cascade.detectMultiScale(gray, 1.1,5)\n",
    "    # draw a rectangle around the face\n",
    "    if len(found):\n",
    "        for (x,y,widht,height) in found:\n",
    "            cv2.rectangle(frame, (x,y), (x+widht, y+height), (0,255,0), 2)\n",
    "    cv2.imshow('frame', frame)\n",
    "    if cv2.waitKey(1) == ord('q'):\n",
    "        break\n",
    "cap.release()\n",
    "cv2.destroyAllWindows()"
   ]
  },
  {
   "cell_type": "markdown",
   "metadata": {},
   "source": [
    "<h4>task3 : face and hands detection </h4>"
   ]
  },
  {
   "cell_type": "code",
   "execution_count": 90,
   "metadata": {},
   "outputs": [],
   "source": [
    "import cv2\n",
    "import numpy as np\n"
   ]
  },
  {
   "cell_type": "code",
   "execution_count": 91,
   "metadata": {},
   "outputs": [],
   "source": [
    "#reading the input webcam\n",
    "cap = cv2.VideoCapture(0)\n",
    "# hand_cascade = cv2.CascadeClassifier('./haarcascade/haarcascade_hand.xml')\n",
    "face_cascade = cv2.CascadeClassifier(cv2.data.haarcascades+'haarcascade_frontalface_alt.xml')\n",
    "palm_cascade = cv2.CascadeClassifier('./haarcascade/1256617233-1-haarcascade_hand.xml')\n",
    "while True :\n",
    "    ret,frame = cap.read()\n",
    "    frame = cv2.flip(frame,1)\n",
    "    gray = cv2.cvtColor(frame, cv2.COLOR_BGR2GRAY)\n",
    "    min_YCrCb = np.array([0,133,77],np.uint8)\n",
    "    max_YCrCb = np.array([235,173,127],np.uint8)\n",
    "    imageYCrCb = cv2.cvtColor(frame,cv2.COLOR_BGR2YCR_CB)\n",
    "    skinRegionYCrCb = cv2.inRange(imageYCrCb,min_YCrCb,max_YCrCb)\n",
    "    skinYCrCb = cv2.bitwise_and(frame, frame, mask = skinRegionYCrCb)\n",
    "    #Erosion\n",
    "    kernel = np.ones((2,2), np.uint8)\n",
    "\n",
    "    erode_image = cv2.erode(skinYCrCb,kernel, iterations=1)\n",
    "    \n",
    "    cv2.imshow('image', erode_image)\n",
    "    found_palm = palm_cascade.detectMultiScale(erode_image, 1.1,16)\n",
    "    found_face = face_cascade.detectMultiScale(frame, 1.1,15)\n",
    "    \n",
    "    if len(found_palm):\n",
    "        for (x,y,widht,height) in found_palm:\n",
    "            cv2.rectangle(frame, (x,y), (x+widht, y+height), (0,255,0), 2)\n",
    "    if len(found_face):\n",
    "        for (x,y,widht,height) in found_face:\n",
    "            cv2.rectangle(frame, (x,y), (x+widht, y+height), (255,0,0), 2)\n",
    "\n",
    "    cv2.imshow('frame', frame)\n",
    "    if cv2.waitKey(1) == ord('q'):\n",
    "        break\n",
    "cap.release()\n",
    "cv2.destroyAllWindows()\n",
    "\n"
   ]
  },
  {
   "cell_type": "markdown",
   "metadata": {},
   "source": [
    "task 4"
   ]
  },
  {
   "cell_type": "code",
   "execution_count": 92,
   "metadata": {},
   "outputs": [],
   "source": [
    "import cv2\n",
    "import numpy as np"
   ]
  },
  {
   "cell_type": "code",
   "execution_count": 94,
   "metadata": {},
   "outputs": [],
   "source": [
    "cap = cv2.VideoCapture(0)\n",
    "hand_cascade = cv2.CascadeClassifier('./haarcascade/1256617233-1-haarcascade_hand.xml')\n",
    "face_cascade = cv2.CascadeClassifier(cv2.data.haarcascades+'haarcascade_frontalface_alt.xml')\n",
    "points = []\n",
    "blank = np.zeros([512,512,3],dtype=np.uint8)\n",
    "blank.fill(255)\n",
    "fx,fy,fw,fh = [0,0,0,0]\n",
    "while True :\n",
    "    ret,frame = cap.read()\n",
    "    frame = cv2.flip(frame,1)\n",
    "    min_YCrCb = np.array([0,133,77],np.uint8)\n",
    "    max_YCrCb = np.array([235,173,127],np.uint8)\n",
    "    imageYCrCb = cv2.cvtColor(frame,cv2.COLOR_BGR2YCR_CB)\n",
    "    skinRegionYCrCb = cv2.inRange(imageYCrCb,min_YCrCb,max_YCrCb)\n",
    "    skinYCrCb = cv2.bitwise_and(frame, frame, mask = skinRegionYCrCb)\n",
    "    #Erosion\n",
    "    kernel = np.ones((2,2), np.uint8)\n",
    "\n",
    "    erode_image = cv2.erode(skinYCrCb,kernel, iterations=1)\n",
    "    found = hand_cascade.detectMultiScale(erode_image, 1.1,15)\n",
    "    found_face = face_cascade.detectMultiScale(frame, 1.1,5)\n",
    "    if len(found):\n",
    "        \n",
    "        if len(found_face):\n",
    "            fx,fy,fw,fh = found_face[0]\n",
    "        for (x,y,widht,height) in found:\n",
    "            cv2.rectangle(frame, (x,y), (x+widht, y+height), (0,255,0), 2)\n",
    "            center = (x + widht//2, y + height//2)\n",
    "            cv2.circle(frame, center, 20, (255, 0, 0), 2)\n",
    "            if center[0]>= fx and center[0] <= fx+fw and center[1] >= fy and center[1] <= fy+fh:\n",
    "                points=[] \n",
    "            elif len(points) <2:\n",
    "                points.append(center)\n",
    "            else:\n",
    "                for i in range(1,len(points)):\n",
    "                    cv2.line(blank, points[i-1], points[i], (0, 0, 255), 2)\n",
    "                points.append(center)\n",
    "    if len(found_face):\n",
    "        for (x,y,widht,height) in found_face:\n",
    "            cv2.rectangle(frame, (x,y), (x+widht, y+height), (255,0,0), 2)\n",
    "    cv2.imshow('frame', frame)\n",
    "    cv2.imshow('image', blank)\n",
    "    if cv2.waitKey(1) == ord('q'):\n",
    "        break\n",
    "cap.release()\n",
    "cv2.destroyAllWindows()"
   ]
  },
  {
   "cell_type": "code",
   "execution_count": null,
   "metadata": {},
   "outputs": [],
   "source": []
  },
  {
   "cell_type": "code",
   "execution_count": null,
   "metadata": {},
   "outputs": [],
   "source": []
  }
 ],
 "metadata": {
  "kernelspec": {
   "display_name": "opencv_env",
   "language": "python",
   "name": "python3"
  },
  "language_info": {
   "codemirror_mode": {
    "name": "ipython",
    "version": 3
   },
   "file_extension": ".py",
   "mimetype": "text/x-python",
   "name": "python",
   "nbconvert_exporter": "python",
   "pygments_lexer": "ipython3",
   "version": "3.10.13"
  }
 },
 "nbformat": 4,
 "nbformat_minor": 2
}
