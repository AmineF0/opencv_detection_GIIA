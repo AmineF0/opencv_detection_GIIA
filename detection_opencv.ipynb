{
 "cells": [
  {
   "cell_type": "markdown",
   "metadata": {},
   "source": [
    "<h1>object detection using opencv</h1>\n",
    "                      <h3>this projrcet is created by YOUNESS AABIBI and AMINE FIRDAWSI <h3>"
   ]
  },
  {
   "cell_type": "markdown",
   "metadata": {},
   "source": [
    "<h4>task 1 : obeject detection </h4>"
   ]
  },
  {
   "cell_type": "code",
   "execution_count": 28,
   "metadata": {},
   "outputs": [],
   "source": [
    "import numpy as np\n",
    "import cv2\n",
    "import time\n"
   ]
  },
  {
   "cell_type": "code",
   "execution_count": 29,
   "metadata": {},
   "outputs": [],
   "source": [
    "# read img\n",
    "img = cv2.imread('pen.webp')\n",
    "# showing img\n",
    "cv2.imshow('image', img)\n",
    "# wait for key to close\n",
    "cv2.waitKey(0)\n",
    "# destroy all windows\n",
    "cv2.destroyAllWindows()"
   ]
  },
  {
   "cell_type": "code",
   "execution_count": 30,
   "metadata": {},
   "outputs": [],
   "source": [
    "# convert the imh to rgb format because opencv reads img in bgr format\n",
    "img_rgb = cv2.cvtColor(img, cv2.COLOR_BGR2RGB)\n",
    "# convert img to grey scale\n",
    "gray = cv2.cvtColor(img, cv2.COLOR_BGR2GRAY)\n",
    "gray = cv2.cvtColor(img_rgb, cv2.COLOR_RGB2GRAY)\n",
    "\n",
    "cv2.imshow('image', gray)\n",
    "cv2.imshow('image2', img_rgb) \n",
    "cv2.waitKey(0)\n",
    "cv2.destroyAllWindows()\n",
    "a=np.array(gray)\n",
    "\n"
   ]
  },
  {
   "cell_type": "code",
   "execution_count": null,
   "metadata": {},
   "outputs": [],
   "source": [
    "# def find_marker(image):\n",
    "# \t# convert the image to grayscale, blur it, and detect edges\n",
    "# \tgray = cv2.cvtColor(image, cv2.COLOR_BGR2GRAY)\n",
    "# \tgray = cv2.GaussianBlur(gray, (5, 5), 0)\n",
    "# \tedged = cv2.Canny(gray, 35, 125)\n",
    "# \t# find the contours in the edged image and keep the largest one;\n",
    "# \t# we'll assume that this is our piece of paper in the image\n",
    "# \tcnts = cv2.findContours(edged.copy(), cv2.RETR_LIST, cv2.CHAIN_APPROX_SIMPLE)\n",
    "# \tcnts = imutils.grab_contours(cnts)\n",
    "# \tc = max(cnts, key = cv2.contourArea)\n",
    "# \t# compute the bounding box of the of the paper region and return it\n",
    "# \treturn cv2.minAreaRect(c)"
   ]
  },
  {
   "cell_type": "code",
   "execution_count": 31,
   "metadata": {},
   "outputs": [],
   "source": [
    "# img_cascade = cv2.CascadeClassifier(cv2.data.haarcascades+'haarcascade_frontalface_default.xml')\n",
    "# found = img_cascade.detectMultiScale(gray, minSize =(20, 20))\n",
    "\n",
    "# if len(found):\n",
    "#     for (x,y,widht,height) in found:\n",
    "#         cv2.rectangle(img, (x,y), (x+widht, y+height), (0,255,0), 2)\n",
    "# cv2.imshow('image', img)\n",
    "# cv2.waitKey(0)\n",
    "# cv2.destroyAllWindows()"
   ]
  },
  {
   "cell_type": "code",
   "execution_count": 32,
   "metadata": {},
   "outputs": [],
   "source": [
    "ret, thresh = cv2.threshold(gray, 127, 255, cv2.THRESH_BINARY)\n",
    "canny = cv2.Canny(img, 100, 200)\n",
    "cv2.imshow('image', thresh)\n",
    "cv2.imshow('image2', canny)\n",
    "cv2.waitKey(0)\n",
    "cv2.destroyAllWindows()"
   ]
  },
  {
   "cell_type": "code",
   "execution_count": 33,
   "metadata": {},
   "outputs": [],
   "source": [
    "contours, hierarchy = cv2.findContours(image=canny, mode=cv2.RETR_CCOMP, method=cv2.CHAIN_APPROX_SIMPLE)\n",
    "img_copy = img.copy()\n",
    "# print(contours)\n",
    "cv2.drawContours(img_copy, contours, -1, (255,0,0), 1,cv2.LINE_AA)\n",
    "cv2.imshow('image', img_copy)\n",
    "cv2.waitKey(0)\n",
    "cv2.destroyAllWindows()"
   ]
  },
  {
   "cell_type": "markdown",
   "metadata": {},
   "source": [
    "<h4>Task2 : face detection </h4>"
   ]
  },
  {
   "cell_type": "code",
   "execution_count": 13,
   "metadata": {},
   "outputs": [],
   "source": [
    "import cv2\n",
    "import numpy as np"
   ]
  },
  {
   "cell_type": "code",
   "execution_count": 17,
   "metadata": {},
   "outputs": [],
   "source": [
    "# read input from web cam\n",
    "cap = cv2.VideoCapture(0)\n",
    "while True:\n",
    "    # read frame\n",
    "    ret, frame = cap.read()\n",
    "    # flip the frame so that it is not the mirror view\n",
    "    frame = cv2.flip(frame, 1)\n",
    "    #get the cascade classifer object using the haarcascade file\n",
    "    img_cascade = cv2.CascadeClassifier(cv2.data.haarcascades+'haarcascade_frontalface_default.xml')\n",
    "    # detecting the face in the frame\n",
    "    found = img_cascade.detectMultiScale(frame, minSize =(20, 20))\n",
    "    # draw a rectangle around the face\n",
    "    if len(found):\n",
    "        for (x,y,widht,height) in found:\n",
    "            cv2.rectangle(frame, (x,y), (x+widht, y+height), (0,255,0), 2)\n",
    "    cv2.imshow('frame', frame)\n",
    "    if cv2.waitKey(1) == ord('q'):\n",
    "        break\n",
    "cap.release()\n",
    "cv2.destroyAllWindows()"
   ]
  },
  {
   "cell_type": "markdown",
   "metadata": {},
   "source": [
    "<h4>task3 : face and hands detection </h4>"
   ]
  },
  {
   "cell_type": "code",
   "execution_count": 86,
   "metadata": {},
   "outputs": [],
   "source": [
    "import cv2\n",
    "import numpy as np\n"
   ]
  },
  {
   "cell_type": "code",
   "execution_count": 87,
   "metadata": {},
   "outputs": [],
   "source": [
    "#reading the input webcam\n",
    "cap = cv2.VideoCapture(0)\n"
   ]
  },
  {
   "cell_type": "code",
   "execution_count": null,
   "metadata": {},
   "outputs": [],
   "source": []
  }
 ],
 "metadata": {
  "kernelspec": {
   "display_name": "opencv_env",
   "language": "python",
   "name": "python3"
  },
  "language_info": {
   "codemirror_mode": {
    "name": "ipython",
    "version": 3
   },
   "file_extension": ".py",
   "mimetype": "text/x-python",
   "name": "python",
   "nbconvert_exporter": "python",
   "pygments_lexer": "ipython3",
   "version": "3.10.13"
  }
 },
 "nbformat": 4,
 "nbformat_minor": 2
}
